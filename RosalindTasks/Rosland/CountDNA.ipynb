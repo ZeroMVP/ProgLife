{
 "cells": [
  {
   "cell_type": "code",
   "execution_count": 8,
   "metadata": {},
   "outputs": [
    {
     "name": "stdout",
     "output_type": "stream",
     "text": [
      "240 236 277 211\n"
     ]
    }
   ],
   "source": [
    "A = 0\n",
    "G = 0\n",
    "C = 0\n",
    "T = 0\n",
    "f = open('rosalind_dna1.txt')\n",
    "for char in f.read():\n",
    "    if char == 'A':\n",
    "        A += 1\n",
    "    if char == 'G':\n",
    "        G += 1\n",
    "    if char == 'C':\n",
    "        C += 1\n",
    "    if char == 'T':\n",
    "        T += 1\n",
    "print(A, C, G, T)"
   ]
  },
  {
   "cell_type": "code",
   "execution_count": null,
   "metadata": {},
   "outputs": [],
   "source": []
  },
  {
   "cell_type": "code",
   "execution_count": null,
   "metadata": {},
   "outputs": [],
   "source": []
  }
 ],
 "metadata": {
  "kernelspec": {
   "display_name": "Python 3",
   "language": "python",
   "name": "python3"
  },
  "language_info": {
   "codemirror_mode": {
    "name": "ipython",
    "version": 3
   },
   "file_extension": ".py",
   "mimetype": "text/x-python",
   "name": "python",
   "nbconvert_exporter": "python",
   "pygments_lexer": "ipython3",
   "version": "3.7.1"
  }
 },
 "nbformat": 4,
 "nbformat_minor": 2
}
