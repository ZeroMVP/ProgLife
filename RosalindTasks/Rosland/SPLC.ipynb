{
 "cells": [
  {
   "cell_type": "code",
   "execution_count": 1,
   "metadata": {},
   "outputs": [
    {
     "data": {
      "text/plain": [
       "['ATGGTCCCGGCGAAGACTTCACTCGCCCCCGGAGATGCTACGCCTTTCCCCATAAGAACCCTACTGTTAACCATATGGTTGGGTCATCGAGAGAATTGGCTGCCCGTCAGGGACACAGCAGTGAAAGAAACGTTTGCACAAGCCCAGCGCCCCGGCATTGCTGGGGATTACAGATCTGTCGTCAACCTCTAGGCTAGTGGCGACCTAGGAGTAACTACTATCATAATCTAATAGGGTCTTTTCCTCAATCCGGATTAACACCCGGCTTGCTGTACCGCCGCAGGTGGTTACTCTTAAATAGTTGAACGCCGTGACATCGTAACATGGGGGACAACTATGGGTCTTCTCCCAGGGTCGGGCTCGCCTCGAATCCATCAATATCTCTTTGCGCAGGTTCCGGCATGACATGGATCATACTTCTTAATCATACACTTGACTGTCGGGATTCGCTGAGATGCTCTTGCGGCGATTTCTGACCCGATGCTAAAGTGCTAAATCTGCAAAGGACGAAGGACTAGCGCTACTGGGGCCCTGTGGGAAAGACAAATATTCGCTACATAAATGCATTTTGTGGCACAGTTCGTTTCTTGCATGCCTACAGAACTTCTGTGGAAATGCGAGCTGCAGAAGGGGCCACAAACTCTTGATATCCTACGCCGTGGGCGGGGTCTACGGATCCAGGCCTCATGATGCAGCAGACAGCCTCTGCAGATCAGCCCATTTTTTACCACGACACCTTATACTAACGCGTCAGCCTCTTTTAAACGCTTCGGAGCGCATACTTGTCCAAGAGGGCCTAGGACAACATCAAAAACTAAGTGGGGAGGGAGTGGCACGGAGTGCTGGGCATCCATACGAGCCAGCGCATACTAAATCCCACGGCTGCGCATTACGGGCGTTGCTAGTTCGCCAAATTGGCCGAAGTTAATTCAAGCACTCCTAACCCGTTACGCGGGAAATAG',\n",
       " 'TCCTACGCCGTGGGCGGGGTCTACGGAT',\n",
       " 'ATACTAAATCCCACGGCTGCGCATTACGGGCGTTGCTAGTTCGCCAAA',\n",
       " 'CACGACACCTTATACTAACGCGTCAGCCTCTTTTA',\n",
       " 'CTAGGCTAGTGGCGACCTAGGAGTAACTACTATCATAATCTAATAGGGTC',\n",
       " 'TCTTGCGGCGATTTCTGACCCGATGCTAAAGTGCTAAA',\n",
       " 'GGGAAAGACAAATATTCGCTA',\n",
       " 'TTCCCCATAAGAACCCTACTGTTAACCAT',\n",
       " 'CATCAATATCTCTTTGCGCAGGTTCCGGC',\n",
       " 'GTCCAAGAGGGCCTAGGACAACATCAAAAACTAAGTGGGGAGGGAG',\n",
       " 'TGCACAAGCCCAGCGCCCCGGCATTGCTGGGGA',\n",
       " 'GTTACTCTTAAATAGTTGAACGCCGTGACATCGTA',\n",
       " 'TGCCTACAGAACTTCTGTGGAAATGCGAGC']"
      ]
     },
     "execution_count": 1,
     "metadata": {},
     "output_type": "execute_result"
    }
   ],
   "source": [
    "f = open('SPLCD.txt', 'r')\n",
    "data = []\n",
    "for line in f:\n",
    "    data.append(line)\n",
    "norm_data = []\n",
    "last_stroke = ''\n",
    "for i in data:\n",
    "    q = list(i)\n",
    "    if q[0] == '>':\n",
    "        norm_data.append(last_stroke)\n",
    "        last_stroke = ''\n",
    "        continue\n",
    "    b = ''.join(q[:(len(q)-1):])\n",
    "    last_stroke += b\n",
    "norm_data.append(last_stroke)\n",
    "norm_data = norm_data[1::]\n",
    "norm_data"
   ]
  },
  {
   "cell_type": "code",
   "execution_count": 2,
   "metadata": {},
   "outputs": [],
   "source": [
    "a = norm_data[0]\n",
    "for i in norm_data[1::]:\n",
    "    a = a.replace(i, '')\n",
    "a = a.replace('T', 'U')"
   ]
  },
  {
   "cell_type": "code",
   "execution_count": 3,
   "metadata": {},
   "outputs": [
    {
     "name": "stdout",
     "output_type": "stream",
     "text": [
      "MVPAKTSLAPGDATPMVGSSRELAARQGHSSERNVLQICRQPFSSIRINTRLAVPPQVTWGTTMGLLPGSGSPRIMTWIILLNHTLDCRDSLRCSAKDEGLALLGPCHKCILWHSSFLACRRGHKLLIPGLMMQQTASADQPIFYNASERILWHGVLGIHTSQRLAEVNSSTPNPLRGK\n"
     ]
    }
   ],
   "source": [
    "ma_dict = dict(UUU='F', CUU='L', AUU='I', GUU='V', UUC='F', CUC='L', AUC='I', GUC='V',UUA='L', CUA='L', AUA='I', GUA='V',UUG='L', CUG='L', AUG='M', GUG='V',\n",
    "               UCU='S', CCU='P', ACU='T', GCU='A',UCC='S', CCC='P', ACC='T', GCC='A', UCA='S', CCA='P', ACA='T', GCA='A',UCG='S', CCG='P', ACG='T', GCG='A',UAU='Y',CAU='H', AAU='N', GAU='D',\n",
    "               UAC='Y', CAC='H', AAC='N', GAC='D', UAA='Stop', CAA='Q', AAA='K', GAA='E',UAG='Stop',CAG='Q', AAG='K', GAG='E',UGU='C', CGU='R', AGU='S', GGU='G',UGC='C',CGC='R',AGC='S',GGC='G',\n",
    "               UGA='Stop',CGA='R',AGA='R', GGA='G',UGG='W', CGG='R', AGG='R', GGG='G')\n",
    "k = 0\n",
    "s = ''\n",
    "ans = ''\n",
    "for i in a:\n",
    "    if(k == 3):\n",
    "        ans += ma_dict[s]\n",
    "        k = 0\n",
    "        s = ''\n",
    "    s += i\n",
    "    k += 1\n",
    "print(ans)"
   ]
  },
  {
   "cell_type": "code",
   "execution_count": null,
   "metadata": {},
   "outputs": [],
   "source": []
  }
 ],
 "metadata": {
  "kernelspec": {
   "display_name": "Python 3",
   "language": "python",
   "name": "python3"
  },
  "language_info": {
   "codemirror_mode": {
    "name": "ipython",
    "version": 3
   },
   "file_extension": ".py",
   "mimetype": "text/x-python",
   "name": "python",
   "nbconvert_exporter": "python",
   "pygments_lexer": "ipython3",
   "version": "3.7.1"
  }
 },
 "nbformat": 4,
 "nbformat_minor": 2
}
