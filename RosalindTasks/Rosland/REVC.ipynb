{
 "cells": [
  {
   "cell_type": "code",
   "execution_count": 4,
   "metadata": {},
   "outputs": [],
   "source": [
    "f = open(\"REVC.txt\")\n",
    "s = []\n",
    "for char in f.read():\n",
    "    if (char == 'A'):\n",
    "        s.append('T')\n",
    "    elif (char == 'T'):\n",
    "        s.append('A')\n",
    "    elif (char == 'C'):\n",
    "        s.append('G')\n",
    "    elif (char == 'G'):\n",
    "        s.append('C')\n",
    "f.close()\n",
    "f = open('ans.txt', 'w')\n",
    "s = s[::-1]\n",
    "f.write(''.join(s))\n",
    "f.close()"
   ]
  },
  {
   "cell_type": "code",
   "execution_count": null,
   "metadata": {},
   "outputs": [],
   "source": []
  }
 ],
 "metadata": {
  "kernelspec": {
   "display_name": "Python 3",
   "language": "python",
   "name": "python3"
  },
  "language_info": {
   "codemirror_mode": {
    "name": "ipython",
    "version": 3
   },
   "file_extension": ".py",
   "mimetype": "text/x-python",
   "name": "python",
   "nbconvert_exporter": "python",
   "pygments_lexer": "ipython3",
   "version": "3.7.1"
  }
 },
 "nbformat": 4,
 "nbformat_minor": 2
}
