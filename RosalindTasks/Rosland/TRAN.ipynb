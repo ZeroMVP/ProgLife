{
 "cells": [
  {
   "cell_type": "code",
   "execution_count": 17,
   "metadata": {},
   "outputs": [
    {
     "data": {
      "text/plain": [
       "['TGTCCCTCACGGTTCCAGCACTCCTACTGATTACGAACATTCCTATTACAATTTTACCTCGAAGCCGATCCGCTCTTGTACCGGGATCTGGCTGGGTACGTTAGTCCCGCGATCCTCACGGAATTTGCCATGCTCGATAGGCGGCACATAAGGGCCCTGCGAGGCGGTTCATCCTGCCTTGGTCACACGGAGGTGCCGTGATGCATGCCCGTCCAGGGAATTCTTTAGGGGACTATTATAGAATCCCCCTTCGTTGATCGCCGTTAAATGGATACGATTATCTTTTAAGGCTCTAGTTAGTCACATAGGGAAGTGGGACATTTCCCGCGACAACCGAGAGCAAGCTCTCCAAACATGACTAGACCAGGTTGAGATGAACGGTCAGACTTCTCTGGGAATTTACCAGACATCGATCCTAAGGGACCCTCCCGGGAGGGCCTAGACTTGCTTAACCTTTTCAGTAAGAGCATCTAGCCGCCTATAACATCACAGACTATCCCGTCAGCCAGCTGGTTTCGTCTGTATAGAAAGAATTAATTAGACGGCTGTATAGAATATCTCCCAATCTCGGAGAAACGGCAAGTATCTCGGTCAGTTTTGATGGATGTAGTGGACTATGAACATTTTAAACAATAGGTGAAGACGTCATCACTATTGTAATAGGGATGATCCCACAGCGGAGCTACCAAGAATGATCTGTGAGAGTAATTTCTACCGGGTACCGTGCTCGAATGCAGGAGGAGCTTGCCTGAGATTGAGGTCCCAAACAGGCGGATCGTATCACGGACCTCTCGATGGGTCTTGAGAACGCTACTTTGACTAGACACATAGAGACGTAATCTCCTGCCCTCCCTACACGTACTTAGCCTG',\n",
       " 'CACCCCCCAAGGTTCGGGAAGTCCTACTTATCGCAAAAATTCCATTGGCAGTTTTACCTCGGTACCAGTCCACCTTTGGACAAGTATCTAGGTGCGGACGTTAATCTCCCGATCCTCACGGAATTCGCCATGCTCTATGAGCGGCACACAAGGGCACTGCAAAGCGGCCTATGTTACCTTGGTAATACGGATGCACCATAATGCATGTCCACCCAGGAAGTTCTCTAGGGGATTATTATAGTATCCCCGCCAGTCGATCGTGGCCGTATCGAAATGGTTATCTACTGAAGCTTTGATTGGTCACCTAGAGCAGTGCGTCAGTTTCCGCGATAACCGAGAGTAAATTTTTCGAACAGGGCCCTACGATTTCGGGATGCACGGTCAAACTTCTTTGAGTACATGCTAGATATTGATCCTAAAGGGCCCTACCAGGAATGCCTAGACCTTCACAACCTCCTCAGTAGAGGCAGATAGCCGCTTCCATGATCACGAATAATTAGGTCGGCGGACTGGGTTTGTTCGTGTAGAAAGAACTAATTTGGGGGCTGGACAGAATATCTACCATTCTCAGGGATATGACAGGCATTCAAGTTAGTTCTAATGGATGTAGTGTACAATCGCCATTAGAAATAATAATTAAGGACGTCAGCACCAGTGTGATAGGGGAGTCCTGACTGAATGTTCACCAGGAATTACCCGTGAGAATAATCTCTACCGGGTACCGTGCTCAAATGCAGGGGGCCATAGCCTGGAATTAGGCTCCCAAATAGGCGAATCGCATCACGGACCTCTCGATAGGGCGTGCGAACGCTACCCTGAACAAATACACAGAGACGTAATCTCCTGGCCTCCTTACACTTCCTTCGCGTA']"
      ]
     },
     "execution_count": 17,
     "metadata": {},
     "output_type": "execute_result"
    }
   ],
   "source": [
    "f = open('rrr.txt', 'r')\n",
    "data = []\n",
    "for line in f:\n",
    "    data.append(line)\n",
    "norm_data = []\n",
    "last_stroke = ''\n",
    "for i in data:\n",
    "    q = list(i)\n",
    "    if q[0] == '>':\n",
    "        norm_data.append(last_stroke)\n",
    "        last_stroke = ''\n",
    "        continue\n",
    "    b = ''.join(q[:(len(q)-1):])\n",
    "    last_stroke += b\n",
    "norm_data.append(last_stroke)\n",
    "norm_data = norm_data[1::]\n",
    "norm_data"
   ]
  },
  {
   "cell_type": "code",
   "execution_count": 18,
   "metadata": {},
   "outputs": [
    {
     "name": "stdout",
     "output_type": "stream",
     "text": [
      "157 96\n"
     ]
    }
   ],
   "source": [
    "trs = 0\n",
    "trv = 0\n",
    "a = norm_data[0]\n",
    "b = norm_data[1]\n",
    "for i in range(0, len(norm_data[0])):\n",
    "    if (a[i] == b[i]):\n",
    "        continue\n",
    "    elif (a[i] == 'A'):\n",
    "        if (b[i] == 'G'):\n",
    "            trs += 1\n",
    "        else:\n",
    "            trv += 1\n",
    "    elif (a[i] == 'G'):\n",
    "        if (b[i] == 'A'):\n",
    "            trs += 1\n",
    "        else:\n",
    "            trv += 1\n",
    "    elif (a[i] == 'C'):\n",
    "        if (b[i] == 'T'):\n",
    "            trs += 1\n",
    "        else:\n",
    "            trv += 1\n",
    "    elif (a[i] == 'T'):\n",
    "        if (b[i] == 'C'):\n",
    "            trs += 1\n",
    "        else:\n",
    "            trv += 1\n",
    "print(trs, trv)    "
   ]
  },
  {
   "cell_type": "code",
   "execution_count": 9,
   "metadata": {},
   "outputs": [],
   "source": [
    "tran = {'A': 'a', 'A': 'b'}"
   ]
  },
  {
   "cell_type": "code",
   "execution_count": 11,
   "metadata": {},
   "outputs": [
    {
     "data": {
      "text/plain": [
       "'b'"
      ]
     },
     "execution_count": 11,
     "metadata": {},
     "output_type": "execute_result"
    }
   ],
   "source": [
    "tran["
   ]
  },
  {
   "cell_type": "code",
   "execution_count": 19,
   "metadata": {},
   "outputs": [],
   "source": [
    "f.close()"
   ]
  },
  {
   "cell_type": "code",
   "execution_count": 26,
   "metadata": {},
   "outputs": [
    {
     "data": {
      "text/plain": [
       "['CCCACAAAACTCATATTTAGTGCAAGAGTTTGTCTTATAAAGCAACATGCCCTGAGCACCTCGGCCTATCGAGCGTATGCAGATTCGGCTTAATTCCCATCCGGGGATTCGATACCCCGAAGGGCGGCATCGTCGCACGCGCGCATTAACGCCTATGGAGTGGGCGAACGAGTGAGACACCGGTAGTGCATAGTGGCCGTGCACGGAGGACAGAGATTGAGTGGACCTAGTAATCAGGGTACTGAAGTCTACTGCCGAAGTTTGCACTGTCTCCTGCTCGCTGAGGTAATAACAACTGGCGAATAACTAACGTCCACCCGTGGCGAAAGGCATCTACTCTTACATGAAACACCTGATTCTTGGCTACAGTAGCGACAGTACATTCAGCTGGGGCCAAACAAGCGGCCGGACACTCTATAAAATGATTCTATGGCCTCGTCTACTTCCGAGAGTCTAGGACGCACATACTGTAGCTTCCAGCTGAACACAGACACAGTAAGACCGTCTGGAGGTACTCCAGTGACATTGTACCCGCTTTTTACGGATATGTTAACTTTGCTACGCCGTCCGCCTTGATAAATGAACCAGGCAGTAAAAGCTCCTCTCCTGCCTGGTCCATTAGCCCCTCCTATACGAGGGGGCAGTTGGGTCAGCAGGCTTGTCTCCAAAATTTGCTTCAATGCTTATCGGCCATTGCCTTCTCGTGAGATATCCTCAATGCAGCCCTCAGGTAATAAACCTCTACAGTAACCTGAACACTGAGCACTTTAACAGCCAACTGCATGTCGCCGTGAGCCTGGGCAGGGCAACTGAGGCCTCACCAGCGCTTGCAGATGTGACATCAGAGGAATGTAGCGCGACTTACCATGACGTTGGTTAGTCGGGCAAGCGAGCGGTCTTCGTTGCATCAAAAACTTTGTCGAGG',\n",
       " 'AACCTGACCAAA']"
      ]
     },
     "execution_count": 26,
     "metadata": {},
     "output_type": "execute_result"
    }
   ],
   "source": [
    "f = open('sseq.txt', 'r')\n",
    "data = []\n",
    "for line in f:\n",
    "    data.append(line)\n",
    "norm_data = []\n",
    "last_stroke = ''\n",
    "for i in data:\n",
    "    q = list(i)\n",
    "    if q[0] == '>':\n",
    "        norm_data.append(last_stroke)\n",
    "        last_stroke = ''\n",
    "        continue\n",
    "    b = ''.join(q[:(len(q)-1):])\n",
    "    last_stroke += b\n",
    "norm_data.append(last_stroke)\n",
    "norm_data = norm_data[1::]\n",
    "norm_data"
   ]
  },
  {
   "cell_type": "code",
   "execution_count": 27,
   "metadata": {},
   "outputs": [
    {
     "name": "stdout",
     "output_type": "stream",
     "text": [
      "4 6 10 12 14 20 24 34 43 44 45 47\n"
     ]
    }
   ],
   "source": [
    "ind = []\n",
    "k = 0\n",
    "c = list(norm_data[0])\n",
    "f = list(norm_data[1])\n",
    "for i in range(0, len(c)):\n",
    "    if (k == len(f)):\n",
    "        break\n",
    "    if (c[i] == f[k]):\n",
    "        ind.append(i + 1)\n",
    "        k += 1\n",
    "print(*ind)        "
   ]
  },
  {
   "cell_type": "code",
   "execution_count": 28,
   "metadata": {},
   "outputs": [
    {
     "name": "stdin",
     "output_type": "stream",
     "text": [
      " abacabad\n"
     ]
    },
    {
     "name": "stdout",
     "output_type": "stream",
     "text": [
      "a 1\n",
      "b 1\n",
      "a 2\n",
      "c 1\n",
      "a 3\n",
      "b 2\n",
      "a 4\n",
      "d 1\n"
     ]
    }
   ],
   "source": [
    "s = input()\n",
    "diction = {}\n",
    "for i in s:\n",
    "    freq = diction.get(i, 0)\n",
    "    if (freq == 0):\n",
    "        diction[i] = 1;\n",
    "    else:\n",
    "        diction[i] = diction[i] + 1\n",
    "    print(i, diction.get(i,0))"
   ]
  },
  {
   "cell_type": "code",
   "execution_count": 32,
   "metadata": {},
   "outputs": [],
   "source": [
    "class Node:\n",
    "    def __init__(self, name, freq, a_child, b_child):\n",
    "        self.name = name\n",
    "        self.freq = freq\n",
    "        self.a_child = a_child\n",
    "        self.b_child = b_child"
   ]
  },
  {
   "cell_type": "code",
   "execution_count": 31,
   "metadata": {},
   "outputs": [
    {
     "data": {
      "text/plain": [
       "dict_keys(['a', 'b', 'c', 'd'])"
      ]
     },
     "execution_count": 31,
     "metadata": {},
     "output_type": "execute_result"
    }
   ],
   "source": [
    "diction.keys()"
   ]
  },
  {
   "cell_type": "code",
   "execution_count": 57,
   "metadata": {},
   "outputs": [],
   "source": [
    "nodes = []\n",
    "for i in diction.keys():\n",
    "    node = Node(i, int(diction[i]), None, None)\n",
    "    nodes.append(node)\n"
   ]
  },
  {
   "cell_type": "code",
   "execution_count": 59,
   "metadata": {},
   "outputs": [
    {
     "name": "stdout",
     "output_type": "stream",
     "text": [
      "a 4\n",
      "b 2\n",
      "c 1\n",
      "d 1\n"
     ]
    }
   ],
   "source": [
    "for i in nodes:\n",
    "    print(i.name, i.freq)"
   ]
  },
  {
   "cell_type": "code",
   "execution_count": 60,
   "metadata": {},
   "outputs": [],
   "source": [
    "Tree = nodes.copy()\n"
   ]
  },
  {
   "cell_type": "code",
   "execution_count": 61,
   "metadata": {},
   "outputs": [],
   "source": [
    "def findmin(l):\n",
    "    mini = l[0]\n",
    "    for i in l:\n",
    "        if (i.freq < mini.freq):\n",
    "            mini = i\n",
    "    return mini"
   ]
  },
  {
   "cell_type": "code",
   "execution_count": 44,
   "metadata": {},
   "outputs": [
    {
     "name": "stdout",
     "output_type": "stream",
     "text": [
      "c\n"
     ]
    }
   ],
   "source": [
    "a = findmin(Tree)\n",
    "print(a.name)"
   ]
  },
  {
   "cell_type": "code",
   "execution_count": 52,
   "metadata": {},
   "outputs": [
    {
     "data": {
      "text/plain": [
       "[<__main__.Node at 0x1bbf31ff5f8>,\n",
       " <__main__.Node at 0x1bbf31ffc50>,\n",
       " <__main__.Node at 0x1bbf31ff668>]"
      ]
     },
     "execution_count": 52,
     "metadata": {},
     "output_type": "execute_result"
    }
   ],
   "source": [
    "Tree.remove(a)\n",
    "Tree"
   ]
  },
  {
   "cell_type": "code",
   "execution_count": 62,
   "metadata": {},
   "outputs": [
    {
     "data": {
      "text/plain": [
       "[<__main__.Node at 0x1bbf32be4a8>,\n",
       " <__main__.Node at 0x1bbf32be198>,\n",
       " <__main__.Node at 0x1bbf32be4e0>,\n",
       " <__main__.Node at 0x1bbf32be518>]"
      ]
     },
     "execution_count": 62,
     "metadata": {},
     "output_type": "execute_result"
    }
   ],
   "source": [
    "Tree"
   ]
  },
  {
   "cell_type": "code",
   "execution_count": 63,
   "metadata": {},
   "outputs": [],
   "source": [
    "while (len(Tree) != 1):\n",
    "    b = findmin(Tree)\n",
    "    Tree.remove(b)\n",
    "    a = findmin(Tree)\n",
    "    Tree.remove(a)\n",
    "    c = Node((a.freq + b.freq), (a.freq + b.freq), a, b)\n",
    "    Tree.append(c)"
   ]
  },
  {
   "cell_type": "code",
   "execution_count": 64,
   "metadata": {},
   "outputs": [
    {
     "data": {
      "text/plain": [
       "8"
      ]
     },
     "execution_count": 64,
     "metadata": {},
     "output_type": "execute_result"
    }
   ],
   "source": [
    "root = Tree[0]\n",
    "root.freq"
   ]
  },
  {
   "cell_type": "code",
   "execution_count": 78,
   "metadata": {},
   "outputs": [],
   "source": [
    "fd = {}\n",
    "def obhod(noda, s):\n",
    "    if((noda.a_child is None) & (noda.b_child is None)):\n",
    "        fd[noda.name] = s\n",
    "        return\n",
    "    obhod(noda.a_child, (s + '0'))\n",
    "    obhod(noda.b_child, (s + '1'))"
   ]
  },
  {
   "cell_type": "code",
   "execution_count": 79,
   "metadata": {},
   "outputs": [],
   "source": [
    "obhod(root, '')"
   ]
  },
  {
   "cell_type": "code",
   "execution_count": 80,
   "metadata": {},
   "outputs": [
    {
     "data": {
      "text/plain": [
       "{'d': '000', 'c': '001', 'b': '01', 'a': '1'}"
      ]
     },
     "execution_count": 80,
     "metadata": {},
     "output_type": "execute_result"
    }
   ],
   "source": [
    "fd"
   ]
  },
  {
   "cell_type": "code",
   "execution_count": 81,
   "metadata": {},
   "outputs": [
    {
     "data": {
      "text/plain": [
       "'10110011011000'"
      ]
     },
     "execution_count": 81,
     "metadata": {},
     "output_type": "execute_result"
    }
   ],
   "source": [
    "new_ss = ''\n",
    "for i in s:\n",
    "    new_ss += fd[i]\n",
    "new_ss"
   ]
  },
  {
   "cell_type": "code",
   "execution_count": 84,
   "metadata": {},
   "outputs": [
    {
     "name": "stdout",
     "output_type": "stream",
     "text": [
      "4\n"
     ]
    }
   ],
   "source": [
    "print(len(fd))"
   ]
  },
  {
   "cell_type": "code",
   "execution_count": 3,
   "metadata": {},
   "outputs": [
    {
     "name": "stdin",
     "output_type": "stream",
     "text": [
      " a\n"
     ]
    },
    {
     "name": "stdout",
     "output_type": "stream",
     "text": [
      "1 1\n",
      "a: 0\n",
      "0\n"
     ]
    }
   ],
   "source": [
    "# put your python code here\n",
    "import sys\n",
    "s = input()\n",
    "diction = {}\n",
    "for i in s:\n",
    "    freq = diction.get(i, 0)\n",
    "    if (freq == 0):\n",
    "        diction[i] = 1;\n",
    "    else:\n",
    "        diction[i] = diction[i] + 1\n",
    "\n",
    "class Node:\n",
    "    def __init__(self, name, freq, a_child, b_child):\n",
    "        self.name = name\n",
    "        self.freq = freq\n",
    "        self.a_child = a_child\n",
    "        self.b_child = b_child\n",
    "        \n",
    "nodes = []\n",
    "if (len(diction) == 1):\n",
    "    print(1, len(s))\n",
    "    b = list(diction.keys())\n",
    "    print('%s: %s' % (b[0], 0))\n",
    "    print(str(0)*len(s))\n",
    "else:\n",
    "    for i in diction.keys():\n",
    "        node = Node(i, int(diction[i]), None, None)\n",
    "        nodes.append(node)    \n",
    "\n",
    "    Tree = nodes.copy()\n",
    "    def findmin(l):\n",
    "        mini = l[0]\n",
    "        for i in l:\n",
    "            if (i.freq < mini.freq):\n",
    "                mini = i\n",
    "        return mini\n",
    "    while (len(Tree) != 1):\n",
    "        b = findmin(Tree)\n",
    "        Tree.remove(b)\n",
    "        a = findmin(Tree)\n",
    "        Tree.remove(a)\n",
    "        c = Node((a.freq + b.freq), (a.freq + b.freq), a, b)\n",
    "        Tree.append(c)\n",
    "    root = Tree[0]\n",
    "    fd = {}\n",
    "    def obhod(noda, s):\n",
    "        if((noda.a_child is None) & (noda.b_child is None)):\n",
    "            fd[noda.name] = s\n",
    "            return\n",
    "        obhod(noda.a_child, (s + '1'))\n",
    "        obhod(noda.b_child, (s + '0'))\n",
    "    obhod(root, '') \n",
    "    new_ss = ''\n",
    "    for i in s:\n",
    "        new_ss += fd[i]\n",
    "    print(len(fd), len(new_ss))\n",
    "    for i in fd:\n",
    "        print('%s: %s' % (i, fd[i]))\n",
    "    print(new_ss)"
   ]
  },
  {
   "cell_type": "code",
   "execution_count": 94,
   "metadata": {},
   "outputs": [
    {
     "ename": "SyntaxError",
     "evalue": "'return' outside function (<ipython-input-94-4a8707d5ba09>, line 3)",
     "output_type": "error",
     "traceback": [
      "\u001b[1;36m  File \u001b[1;32m\"<ipython-input-94-4a8707d5ba09>\"\u001b[1;36m, line \u001b[1;32m3\u001b[0m\n\u001b[1;33m    return\u001b[0m\n\u001b[1;37m          ^\u001b[0m\n\u001b[1;31mSyntaxError\u001b[0m\u001b[1;31m:\u001b[0m 'return' outside function\n"
     ]
    }
   ],
   "source": [
    "a = 1\n",
    "b = 2\n",
    "return\n",
    "c = a + b"
   ]
  },
  {
   "cell_type": "code",
   "execution_count": 97,
   "metadata": {},
   "outputs": [
    {
     "data": {
      "text/plain": [
       "0"
      ]
     },
     "execution_count": 97,
     "metadata": {},
     "output_type": "execute_result"
    }
   ],
   "source": [
    "a = {}\n",
    "len(a)"
   ]
  },
  {
   "cell_type": "code",
   "execution_count": null,
   "metadata": {},
   "outputs": [],
   "source": []
  }
 ],
 "metadata": {
  "kernelspec": {
   "display_name": "Python 3",
   "language": "python",
   "name": "python3"
  },
  "language_info": {
   "codemirror_mode": {
    "name": "ipython",
    "version": 3
   },
   "file_extension": ".py",
   "mimetype": "text/x-python",
   "name": "python",
   "nbconvert_exporter": "python",
   "pygments_lexer": "ipython3",
   "version": "3.7.1"
  }
 },
 "nbformat": 4,
 "nbformat_minor": 2
}
