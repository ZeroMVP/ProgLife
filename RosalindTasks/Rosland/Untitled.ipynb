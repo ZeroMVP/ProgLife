{
 "cells": [
  {
   "cell_type": "code",
   "execution_count": 2,
   "metadata": {},
   "outputs": [
    {
     "data": {
      "text/plain": [
       "500500"
      ]
     },
     "execution_count": 2,
     "metadata": {},
     "output_type": "execute_result"
    }
   ],
   "source": [
    "sum = 0\n",
    "for i in range(0, 1001):\n",
    "    sum += i\n",
    "sum"
   ]
  },
  {
   "cell_type": "code",
   "execution_count": 3,
   "metadata": {},
   "outputs": [
    {
     "data": {
      "text/plain": [
       "667.0"
      ]
     },
     "execution_count": 3,
     "metadata": {},
     "output_type": "execute_result"
    }
   ],
   "source": [
    "E = 0\n",
    "for i in range(0, 1001):\n",
    "    E += i*i\n",
    "E /= sum\n",
    "E"
   ]
  },
  {
   "cell_type": "code",
   "execution_count": 8,
   "metadata": {},
   "outputs": [
    {
     "name": "stdout",
     "output_type": "stream",
     "text": [
      "707\n"
     ]
    }
   ],
   "source": [
    "wer = 0\n",
    "for i in range(0,1001):\n",
    "    wer += i\n",
    "    if(wer >= 250250):\n",
    "        print(i)\n",
    "        break"
   ]
  },
  {
   "cell_type": "code",
   "execution_count": 4,
   "metadata": {},
   "outputs": [
    {
     "data": {
      "text/plain": [
       "441"
      ]
     },
     "execution_count": 4,
     "metadata": {},
     "output_type": "execute_result"
    }
   ],
   "source": [
    "sumf = 0\n",
    "for i in range(0,7):\n",
    "    sumf += i*i*i\n",
    "sumf"
   ]
  },
  {
   "cell_type": "code",
   "execution_count": 5,
   "metadata": {},
   "outputs": [
    {
     "data": {
      "text/plain": [
       "100"
      ]
     },
     "execution_count": 5,
     "metadata": {},
     "output_type": "execute_result"
    }
   ],
   "source": [
    "sumf = 0\n",
    "for i in range(0,5):\n",
    "    sumf += i*i*i\n",
    "sumf"
   ]
  },
  {
   "cell_type": "code",
   "execution_count": 3,
   "metadata": {},
   "outputs": [
    {
     "name": "stdout",
     "output_type": "stream",
     "text": [
      "2019 673\n"
     ]
    }
   ],
   "source": [
    "a = 1\n",
    "b = 1\n",
    "c = 0\n",
    "while(a < 2018):\n",
    "    a +=3\n",
    "    b +=3\n",
    "    c +=1\n",
    "print(a, c)"
   ]
  },
  {
   "cell_type": "code",
   "execution_count": 15,
   "metadata": {},
   "outputs": [
    {
     "name": "stdin",
     "output_type": "stream",
     "text": [
      " 500\n",
      " 200\n",
      " 4\n",
      " 100 200 300 400\n"
     ]
    },
    {
     "name": "stdout",
     "output_type": "stream",
     "text": [
      "-1\n"
     ]
    }
   ],
   "source": [
    "d = int(input())\n",
    "m_way = int(input())\n",
    "n = input()\n",
    "a = input()\n",
    "a = list(map(int, a.split(' ')))\n",
    "zapr = 0\n",
    "flag = 0\n",
    "proeh = 0\n",
    "for i in range(0, len(a)):\n",
    "    if(i == a[len(a) - 1]):\n",
    "        break\n",
    "    m = m_way\n",
    "    skip = 0\n",
    "    while(m > 0):\n",
    "        if(proeh >= d):\n",
    "            break\n",
    "        m -= (a[i] - proeh) \n",
    "        proeh += a[i]\n",
    "        i += 1\n",
    "        if(m > 0):\n",
    "            skip += 1\n",
    "    if(skip == 0):\n",
    "        flag = 1\n",
    "        break\n",
    "    else:\n",
    "        zapr += 1\n",
    "if(flag == 0):\n",
    "    print(zapr)\n",
    "else:\n",
    "    print(-1)"
   ]
  },
  {
   "cell_type": "markdown",
   "metadata": {},
   "source": [
    "# "
   ]
  }
 ],
 "metadata": {
  "kernelspec": {
   "display_name": "Python 3",
   "language": "python",
   "name": "python3"
  },
  "language_info": {
   "codemirror_mode": {
    "name": "ipython",
    "version": 3
   },
   "file_extension": ".py",
   "mimetype": "text/x-python",
   "name": "python",
   "nbconvert_exporter": "python",
   "pygments_lexer": "ipython3",
   "version": "3.7.1"
  }
 },
 "nbformat": 4,
 "nbformat_minor": 2
}
